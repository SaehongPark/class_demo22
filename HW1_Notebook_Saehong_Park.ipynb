{
 "cells": [
  {
   "cell_type": "markdown",
   "metadata": {
    "tags": []
   },
   "source": [
    "# Stats 21: Homework 1\n",
    "\n",
    "## Saehong Park \n",
    "\n",
    "Acknowledgements: several of these problems are copied from or modified from Think Python by Allen Downey.\n",
    "\n",
    "I've started the homework file for you. You'll need to fill in the rest with your answers.\n",
    "My encouragement is to use the keyboard shortcuts as much as possible and use the mouse as little as possible while working the Jupyter Notebook.\n",
    "\n",
    "After you complete the homework with your answers, go to the menu and choose **Kernel > Restart & Run All.** Review the document to **make sure all requested output is visible**. You will not get credit for problems where the requested output is not visible, even if the function you coded is correct.\n",
    "\n",
    "When you are satisfied with the output, choose File > Download As ... > PDF or  HTML. If you choose to save as HTML, you'll then need to \"Print as PDF\". Submit the PDF to Gradescope.\n",
    "\n",
    "Submit this ipynb file, complete with your answers and output to Canvas / Bruin Learn.\n",
    "\n",
    "**Again, you must make sure all requested output is visible to receive full credit.**"
   ]
  },
  {
   "cell_type": "markdown",
   "metadata": {},
   "source": [
    "# Task 1"
   ]
  },
  {
   "cell_type": "markdown",
   "metadata": {},
   "source": [
    "Create an account on GitHub. \n",
    "\n",
    "Change your profile picture. Ideally, use photo of yourself that would be appropriate for a resume. If you are not comfortable with the idea of using a photo of yourself, use any other image that is suitable for a workplace environment.\n",
    "\n",
    "Follow the instructions provided in class to fork the class repository to your GitHub.\n",
    "\n",
    "Create another repository with at least two text files in it on GitHub (other than the forked class notes repository). Make at least two additional commits to the reposiotry and push them to GitHub.\n",
    "\n",
    "Provide a link to both repositories here.\n",
    "\n",
    "You will also need to submit the link to your own repository (not the forked one) to Canvas / Bruin Learn."
   ]
  },
  {
   "cell_type": "markdown",
   "metadata": {
    "jp-MarkdownHeadingCollapsed": true,
    "tags": []
   },
   "source": [
    "## Your Answer:\n",
    "\n",
    "- Link to your forked repository: https://github.com/SaehongPark/2022-wi-stats21\n",
    "- Link to your own repository: https://github.com/SaehongPark/class_demo22"
   ]
  },
  {
   "cell_type": "markdown",
   "metadata": {},
   "source": [
    "# Problem 2"
   ]
  },
  {
   "cell_type": "markdown",
   "metadata": {},
   "source": [
    "An important part of programming is learning to interpret error messages and understanding what correction needs to be made.\n",
    "\n",
    "Read and familiarize yourself with the following error messages.\n",
    "\n",
    "Explain the error. Then duplicate each cell and correct the error. The first problem has been done for you as an example."
   ]
  },
  {
   "cell_type": "code",
   "execution_count": 1,
   "metadata": {
    "tags": [
     "raises-exception"
    ]
   },
   "outputs": [
    {
     "ename": "SyntaxError",
     "evalue": "unexpected EOF while parsing (<ipython-input-1-41ea49db4490>, line 2)",
     "output_type": "error",
     "traceback": [
      "\u001b[1;36m  File \u001b[1;32m\"<ipython-input-1-41ea49db4490>\"\u001b[1;36m, line \u001b[1;32m2\u001b[0m\n\u001b[1;33m    print(\"Hello World\"\u001b[0m\n\u001b[1;37m                       ^\u001b[0m\n\u001b[1;31mSyntaxError\u001b[0m\u001b[1;31m:\u001b[0m unexpected EOF while parsing\n"
     ]
    }
   ],
   "source": [
    "# A\n",
    "print(\"Hello World\""
   ]
  },
  {
   "cell_type": "markdown",
   "metadata": {},
   "source": [
    "Answer: The `print()` function is missing the closing parenthesis. This results in an unexpected EOF error."
   ]
  },
  {
   "cell_type": "code",
   "execution_count": 2,
   "metadata": {},
   "outputs": [
    {
     "name": "stdout",
     "output_type": "stream",
     "text": [
      "Hello World\n"
     ]
    }
   ],
   "source": [
    "# corrected:\n",
    "print(\"Hello World\")"
   ]
  },
  {
   "cell_type": "code",
   "execution_count": 6,
   "metadata": {
    "tags": [
     "raises-exception"
    ]
   },
   "outputs": [
    {
     "ename": "IndentationError",
     "evalue": "unexpected indent (Temp/ipykernel_1208/66443029.py, line 3)",
     "output_type": "error",
     "traceback": [
      "\u001b[1;36m  File \u001b[1;32m\"C:\\Users\\SEHONG~1\\AppData\\Local\\Temp/ipykernel_1208/66443029.py\"\u001b[1;36m, line \u001b[1;32m3\u001b[0m\n\u001b[1;33m    print(\"Goodbye\")\u001b[0m\n\u001b[1;37m    ^\u001b[0m\n\u001b[1;31mIndentationError\u001b[0m\u001b[1;31m:\u001b[0m unexpected indent\n"
     ]
    }
   ],
   "source": [
    "# B\n",
    "print(\"Hello\")\n",
    "    print(\"Goodbye\")"
   ]
  },
  {
   "cell_type": "markdown",
   "metadata": {},
   "source": [
    "Answer: The print() function does not need indent when we need two messages in the outer function. (inner function needed)  "
   ]
  },
  {
   "cell_type": "code",
   "execution_count": 7,
   "metadata": {},
   "outputs": [
    {
     "name": "stdout",
     "output_type": "stream",
     "text": [
      "Hello\n",
      "Goodbye\n"
     ]
    }
   ],
   "source": [
    "# corrected: \n",
    "print(\"Hello\")\n",
    "print(\"Goodbye\")"
   ]
  },
  {
   "cell_type": "code",
   "execution_count": 9,
   "metadata": {
    "tags": [
     "raises-exception"
    ]
   },
   "outputs": [
    {
     "ename": "SyntaxError",
     "evalue": "invalid syntax (Temp/ipykernel_1208/4211757722.py, line 3)",
     "output_type": "error",
     "traceback": [
      "\u001b[1;36m  File \u001b[1;32m\"C:\\Users\\SEHONG~1\\AppData\\Local\\Temp/ipykernel_1208/4211757722.py\"\u001b[1;36m, line \u001b[1;32m3\u001b[0m\n\u001b[1;33m    if x > 8\u001b[0m\n\u001b[1;37m            ^\u001b[0m\n\u001b[1;31mSyntaxError\u001b[0m\u001b[1;31m:\u001b[0m invalid syntax\n"
     ]
    }
   ],
   "source": [
    "# C\n",
    "x = 10\n",
    "if x > 8\n",
    "    print(\"x is greater than 8\")"
   ]
  },
  {
   "cell_type": "markdown",
   "metadata": {},
   "source": [
    "Answer: if statment needs \":\" at the end of the statement."
   ]
  },
  {
   "cell_type": "code",
   "execution_count": 12,
   "metadata": {},
   "outputs": [
    {
     "name": "stdout",
     "output_type": "stream",
     "text": [
      "x is greater than 8\n"
     ]
    }
   ],
   "source": [
    "# corrected \n",
    "x = 10 \n",
    "if x > 8:\n",
    "    print(\"x is greater than 8\")"
   ]
  },
  {
   "cell_type": "code",
   "execution_count": 13,
   "metadata": {
    "tags": [
     "raises-exception"
    ]
   },
   "outputs": [
    {
     "ename": "SyntaxError",
     "evalue": "invalid syntax (Temp/ipykernel_1208/2686327292.py, line 2)",
     "output_type": "error",
     "traceback": [
      "\u001b[1;36m  File \u001b[1;32m\"C:\\Users\\SEHONG~1\\AppData\\Local\\Temp/ipykernel_1208/2686327292.py\"\u001b[1;36m, line \u001b[1;32m2\u001b[0m\n\u001b[1;33m    if x = 10:\u001b[0m\n\u001b[1;37m         ^\u001b[0m\n\u001b[1;31mSyntaxError\u001b[0m\u001b[1;31m:\u001b[0m invalid syntax\n"
     ]
    }
   ],
   "source": [
    "# D\n",
    "if x = 10:\n",
    "    print(\"x is equal to 10\")"
   ]
  },
  {
   "cell_type": "markdown",
   "metadata": {},
   "source": [
    "Answer : T/F is going to be \"==\", not \"=\""
   ]
  },
  {
   "cell_type": "code",
   "execution_count": 14,
   "metadata": {},
   "outputs": [
    {
     "name": "stdout",
     "output_type": "stream",
     "text": [
      "x is equal to 10\n"
     ]
    }
   ],
   "source": [
    "# Corrected \n",
    "if x == 10:\n",
    "    print(\"x is equal to 10\")"
   ]
  },
  {
   "cell_type": "code",
   "execution_count": 16,
   "metadata": {
    "tags": [
     "raises-exception"
    ]
   },
   "outputs": [
    {
     "name": "stdout",
     "output_type": "stream",
     "text": [
      "x is five\n"
     ]
    }
   ],
   "source": [
    "# E\n",
    "x = 5\n",
    "if x == 5:\n",
    "print(\"x is five\")"
   ]
  },
  {
   "cell_type": "markdown",
   "metadata": {},
   "source": [
    "Answer : following the cell of the if statment needs indent. "
   ]
  },
  {
   "cell_type": "code",
   "execution_count": 17,
   "metadata": {},
   "outputs": [
    {
     "name": "stdout",
     "output_type": "stream",
     "text": [
      "x is five\n"
     ]
    }
   ],
   "source": [
    "# corrected \n",
    "x = 5 \n",
    "if x == 5:\n",
    "    print(\"x is five\")"
   ]
  },
  {
   "cell_type": "code",
   "execution_count": 25,
   "metadata": {
    "tags": [
     "raises-exception"
    ]
   },
   "outputs": [
    {
     "ename": "NameError",
     "evalue": "name 'sort' is not defined",
     "output_type": "error",
     "traceback": [
      "\u001b[1;31m---------------------------------------------------------------------------\u001b[0m",
      "\u001b[1;31mNameError\u001b[0m                                 Traceback (most recent call last)",
      "\u001b[1;32mC:\\Users\\SEHONG~1\\AppData\\Local\\Temp/ipykernel_1208/3077332277.py\u001b[0m in \u001b[0;36m<module>\u001b[1;34m\u001b[0m\n\u001b[0;32m      1\u001b[0m \u001b[1;31m# F\u001b[0m\u001b[1;33m\u001b[0m\u001b[1;33m\u001b[0m\u001b[0m\n\u001b[0;32m      2\u001b[0m \u001b[0ml\u001b[0m \u001b[1;33m=\u001b[0m \u001b[1;33m[\u001b[0m\u001b[1;36m1\u001b[0m\u001b[1;33m,\u001b[0m \u001b[1;36m2\u001b[0m\u001b[1;33m,\u001b[0m \u001b[1;36m50\u001b[0m\u001b[1;33m,\u001b[0m \u001b[1;36m10\u001b[0m\u001b[1;33m]\u001b[0m\u001b[1;33m\u001b[0m\u001b[1;33m\u001b[0m\u001b[0m\n\u001b[1;32m----> 3\u001b[1;33m \u001b[0ml\u001b[0m \u001b[1;33m=\u001b[0m \u001b[0msort\u001b[0m\u001b[1;33m(\u001b[0m\u001b[0ml\u001b[0m\u001b[1;33m)\u001b[0m\u001b[1;33m\u001b[0m\u001b[1;33m\u001b[0m\u001b[0m\n\u001b[0m\u001b[0;32m      4\u001b[0m \u001b[0msorted\u001b[0m\u001b[1;33m(\u001b[0m\u001b[0ml\u001b[0m\u001b[1;33m)\u001b[0m\u001b[1;33m\u001b[0m\u001b[1;33m\u001b[0m\u001b[0m\n",
      "\u001b[1;31mNameError\u001b[0m: name 'sort' is not defined"
     ]
    }
   ],
   "source": [
    "# F\n",
    "l = [1, 2, 50, 10]\n",
    "l = sort(l)"
   ]
  },
  {
   "cell_type": "markdown",
   "metadata": {},
   "source": [
    "Answer: the sort function has not been defined, so we nned to define the function in advance or using sorted() funciton."
   ]
  },
  {
   "cell_type": "code",
   "execution_count": 28,
   "metadata": {},
   "outputs": [
    {
     "data": {
      "text/plain": [
       "[1, 2, 10, 50]"
      ]
     },
     "execution_count": 28,
     "metadata": {},
     "output_type": "execute_result"
    }
   ],
   "source": [
    "# Corrected\n",
    "l = [1, 2, 50, 10]\n",
    "l.sort()\n",
    "l"
   ]
  },
  {
   "cell_type": "markdown",
   "metadata": {},
   "source": [
    "# Problem 3"
   ]
  },
  {
   "cell_type": "markdown",
   "metadata": {},
   "source": [
    "Use Python as a calculator. Enter the appropriate calculation in a cell and be sure the output value is visible.\n",
    "\n",
    "A. How many seconds are there in 42 minutes 42 seconds?"
   ]
  },
  {
   "cell_type": "code",
   "execution_count": 29,
   "metadata": {},
   "outputs": [
    {
     "data": {
      "text/plain": [
       "2562"
      ]
     },
     "execution_count": 29,
     "metadata": {},
     "output_type": "execute_result"
    }
   ],
   "source": [
    "42*60 + 42 "
   ]
  },
  {
   "cell_type": "markdown",
   "metadata": {},
   "source": [
    "B. There are 1.61 kilometers in a mile. How many miles are there in 10 kilometers?"
   ]
  },
  {
   "cell_type": "code",
   "execution_count": 31,
   "metadata": {},
   "outputs": [
    {
     "data": {
      "text/plain": [
       "6.211180124223602"
      ]
     },
     "execution_count": 31,
     "metadata": {},
     "output_type": "execute_result"
    }
   ],
   "source": [
    "10/1.61"
   ]
  },
  {
   "cell_type": "markdown",
   "metadata": {},
   "source": [
    "C. If you run a 10 kilometer race in 42 minutes 42 seconds, what is your average 1-mile pace (time to complete 1 mile in minutes and seconds)? What is your average speed in\n",
    "miles per hour?"
   ]
  },
  {
   "cell_type": "code",
   "execution_count": 35,
   "metadata": {},
   "outputs": [
    {
     "data": {
      "text/plain": [
       "8.727653570337614"
      ]
     },
     "execution_count": 35,
     "metadata": {},
     "output_type": "execute_result"
    }
   ],
   "source": [
    "# average speed : distance in mile / time in hours \n",
    "(10/1.61) / (2562/3600)"
   ]
  },
  {
   "cell_type": "markdown",
   "metadata": {},
   "source": [
    "# Problem 4\n",
    "Write functions for the following problems."
   ]
  },
  {
   "cell_type": "markdown",
   "metadata": {},
   "source": [
    "A. The volume of a sphere with radius r is $$V = \\frac{4}{3}\\pi r^3$$\n",
    "\n",
    "Write a function `sphere_volume(r)` that will accept a radius as an argument and return the volume.\n",
    "\n",
    "- Use the function to ﬁnd the volume of a sphere with radius 5.\n",
    "- Use the function to ﬁnd the volume of a sphere with radius 15."
   ]
  },
  {
   "cell_type": "code",
   "execution_count": 28,
   "metadata": {},
   "outputs": [],
   "source": [
    "import math\n",
    "\n",
    "def sphere_volume(r):\n",
    "    vol = (4.0/3.0) * math.pi * r**3\n",
    "    return vol\n",
    "    "
   ]
  },
  {
   "cell_type": "code",
   "execution_count": 29,
   "metadata": {},
   "outputs": [
    {
     "data": {
      "text/plain": [
       "523.5987755982989"
      ]
     },
     "execution_count": 29,
     "metadata": {},
     "output_type": "execute_result"
    }
   ],
   "source": [
    "sphere_volume(5)"
   ]
  },
  {
   "cell_type": "code",
   "execution_count": 30,
   "metadata": {},
   "outputs": [
    {
     "data": {
      "text/plain": [
       "14137.166941154068"
      ]
     },
     "execution_count": 30,
     "metadata": {},
     "output_type": "execute_result"
    }
   ],
   "source": [
    "sphere_volume(15)"
   ]
  },
  {
   "cell_type": "markdown",
   "metadata": {},
   "source": [
    "B. Suppose the cover price of a book is \\\\$24.95, but bookstores get a 40\\% discount. Shipping costs \\\\$3 for the ﬁrst copy and 75 cents for each additional copy.\n",
    "\n",
    "Write a function `wholesale_cost(books)` that accepts an argument for the number of books and will return the total cost of the books plus shipping.\n",
    "\n",
    "- Use the function to ﬁnd the total wholesale cost for 60 copies.\n",
    "- Use the function to ﬁnd the total wholesale cost for 10 copies."
   ]
  },
  {
   "cell_type": "code",
   "execution_count": 41,
   "metadata": {},
   "outputs": [],
   "source": [
    "import math\n",
    "def wholesale_cost(books):\n",
    "    cost = (books*24.95) + (3+(books-1)*0.75) - (0.4*(24.95*books))\n",
    "    return cost"
   ]
  },
  {
   "cell_type": "code",
   "execution_count": 42,
   "metadata": {},
   "outputs": [
    {
     "data": {
      "text/plain": [
       "945.4499999999999"
      ]
     },
     "execution_count": 42,
     "metadata": {},
     "output_type": "execute_result"
    }
   ],
   "source": [
    "wholesale_cost(60)"
   ]
  },
  {
   "cell_type": "code",
   "execution_count": 43,
   "metadata": {},
   "outputs": [
    {
     "data": {
      "text/plain": [
       "159.45"
      ]
     },
     "execution_count": 43,
     "metadata": {},
     "output_type": "execute_result"
    }
   ],
   "source": [
    "wholesale_cost(10)"
   ]
  },
  {
   "cell_type": "markdown",
   "metadata": {},
   "source": [
    "C. A person runs several miles. The ﬁrst and last miles are run at an 'easy' pace. Other than the ﬁrst and last miles, the other miles are at a faster pace.\n",
    "\n",
    "Write a function `run_time(miles, warm_pace, fast_pace)` to calculate the time the runner will take. The function accepts three input arguments: how many miles the runner travels (minimum value is 2), the warm-up and cool-down pace, the fast pace. The function will print the time in the format minutes:seconds, and will return a tuple of values: (minutes, seconds)\n",
    "\n",
    "Use the function to ﬁnd the time to run a total of 5 miles. The warm-up pace is 8:15 per mile. The speed pace is 7:12 per mile.\n",
    "\n",
    "Call the function using: `run_time(miles = 5, warm_pace = 495, fast_pace = 432)`"
   ]
  },
  {
   "cell_type": "code",
   "execution_count": 278,
   "metadata": {},
   "outputs": [],
   "source": [
    "import math \n",
    "\n",
    "def run_time(miles = int, warm_pace = int, fast_pace = int):\n",
    "    result = (2 * warm_pace) + ((miles - 2) * fast_pace)\n",
    "    return result\n",
    "    "
   ]
  },
  {
   "cell_type": "code",
   "execution_count": 279,
   "metadata": {},
   "outputs": [
    {
     "name": "stdout",
     "output_type": "stream",
     "text": [
      "2286\n"
     ]
    }
   ],
   "source": [
    "print(run_time(5, 495, 432))"
   ]
  },
  {
   "cell_type": "markdown",
   "metadata": {},
   "source": [
    "Another important skill is to be able to read documentation.\n",
    "\n",
    "Read the documentation for the function str.split() at https://docs.python.org/3/library/stdtypes.html#str.split\n",
    "\n",
    "Adjust the function so that the call can be made with minutes and seconds:\n",
    "\n",
    "`run_time(miles = 5, warm_pace = \"8:15\", fast_pace = \"7:12\")`"
   ]
  },
  {
   "cell_type": "code",
   "execution_count": 373,
   "metadata": {},
   "outputs": [],
   "source": [
    "def convert(time_str):\n",
    "    m,s = time_str.split(\":\")\n",
    "    seconds = int(m)*60 + int(s)\n",
    "    print(\"minute: \",(seconds // 60), \"seconds: \", (seconds % 60))"
   ]
  },
  {
   "cell_type": "code",
   "execution_count": 425,
   "metadata": {},
   "outputs": [],
   "source": [
    "def run_time(miles, warm_pace, fast_pace):\n",
    "    miles = print(\"miles :\", miles)\n",
    "    warm_pace = convert(warm_pace)\n",
    "    fast_pace = convert(fast_pace)\n",
    "    "
   ]
  },
  {
   "cell_type": "code",
   "execution_count": 429,
   "metadata": {},
   "outputs": [
    {
     "name": "stdout",
     "output_type": "stream",
     "text": [
      "miles : 5\n",
      "minute:  8 seconds:  15\n",
      "minute:  7 seconds:  12\n"
     ]
    }
   ],
   "source": [
    "run_time(miles = 5, warm_pace = \"8:15\", fast_pace = \"7:12\")"
   ]
  },
  {
   "cell_type": "markdown",
   "metadata": {},
   "source": [
    "# Problem 5\n",
    "\n",
    "Use `import math` to gain access to the math library.\n",
    "\n",
    "Create a function `polar(real, imaginary)` that will return the polar coordinates of a complex number.\n",
    "\n",
    "The input arguments are the real and imaginary components of a complex number. The function will return a tuple of values: the value of the radius `r` and the angle `theta`. \n",
    "\n",
    "For a refresher, see: https://ptolemy.berkeley.edu/eecs20/sidebars/complex/polar.html\n",
    "\n",
    "Show the results for the following complex numbers:\n",
    "\n",
    "- 1 + i\n",
    "- -2 - 3i\n",
    "- 4 + 2i"
   ]
  },
  {
   "cell_type": "code",
   "execution_count": 234,
   "metadata": {},
   "outputs": [],
   "source": [
    "import math\n",
    "def polar(x, y):\n",
    "    complex(x, y)\n",
    "    r = math.sqrt(x**2+y**2)\n",
    "    theta = math.atan2(y, x)\n",
    "    return r, theta"
   ]
  },
  {
   "cell_type": "code",
   "execution_count": 235,
   "metadata": {},
   "outputs": [
    {
     "data": {
      "text/plain": [
       "(1.4142135623730951, 0.7853981633974483)"
      ]
     },
     "execution_count": 235,
     "metadata": {},
     "output_type": "execute_result"
    }
   ],
   "source": [
    "polar(1, 1)"
   ]
  },
  {
   "cell_type": "code",
   "execution_count": 236,
   "metadata": {},
   "outputs": [
    {
     "data": {
      "text/plain": [
       "(3.605551275463989, -2.158798930342464)"
      ]
     },
     "execution_count": 236,
     "metadata": {},
     "output_type": "execute_result"
    }
   ],
   "source": [
    "polar(-2, -3)"
   ]
  },
  {
   "cell_type": "code",
   "execution_count": 237,
   "metadata": {},
   "outputs": [
    {
     "data": {
      "text/plain": [
       "(4.47213595499958, 0.4636476090008061)"
      ]
     },
     "execution_count": 237,
     "metadata": {},
     "output_type": "execute_result"
    }
   ],
   "source": [
    "polar(4, 2)"
   ]
  },
  {
   "cell_type": "markdown",
   "metadata": {},
   "source": [
    "# Problem 6"
   ]
  },
  {
   "cell_type": "markdown",
   "metadata": {},
   "source": [
    "Define a function called `insert_into(listname, index, iterable)`. It will accept three arguments, a currently existing list, an index, and another list/tuple that will be inserted at the index position.\n",
    "\n",
    "Python's built-in function, `list.insert()` can only insert one object."
   ]
  },
  {
   "cell_type": "code",
   "execution_count": 187,
   "metadata": {},
   "outputs": [],
   "source": [
    "# write your code here\n",
    "def insert_into(listname, index, iterable):\n",
    "    listname.insert(index, iterable)\n",
    "    print(listname)"
   ]
  },
  {
   "cell_type": "code",
   "execution_count": 188,
   "metadata": {},
   "outputs": [
    {
     "name": "stdout",
     "output_type": "stream",
     "text": [
      "[0, 'a', 'b', ['hello', 'there'], 'c', 4, 5, 6]\n"
     ]
    }
   ],
   "source": [
    "# do not modify. We will check this result for grading\n",
    "l = [0,'a','b','c',4,5,6]\n",
    "i = ['hello', 'there']\n",
    "insert_into(l, 3, i)"
   ]
  },
  {
   "cell_type": "markdown",
   "metadata": {},
   "source": [
    "# Problem 7\n",
    "\n",
    "Define a function called `first_equals_last(listname)`\n",
    "\n",
    "It will accept a list as an argument. It will return `True` if the first and last elements are equal and the if the list has a length greater than 1. It will return False for all other cases."
   ]
  },
  {
   "cell_type": "code",
   "execution_count": 53,
   "metadata": {},
   "outputs": [],
   "source": [
    "# write your function here\n",
    "def first_equals_last(listname):\n",
    "    if len(listname)>=1 and listname[0] == listname[-1]:\n",
    "        return True \n",
    "    else:\n",
    "        return False"
   ]
  },
  {
   "cell_type": "code",
   "execution_count": 54,
   "metadata": {},
   "outputs": [
    {
     "data": {
      "text/plain": [
       "False"
      ]
     },
     "execution_count": 54,
     "metadata": {},
     "output_type": "execute_result"
    }
   ],
   "source": [
    "# do not modify. We will check this result for grading\n",
    "a = [1,2,3]\n",
    "first_equals_last(a)"
   ]
  },
  {
   "cell_type": "code",
   "execution_count": 55,
   "metadata": {},
   "outputs": [
    {
     "data": {
      "text/plain": [
       "True"
      ]
     },
     "execution_count": 55,
     "metadata": {},
     "output_type": "execute_result"
    }
   ],
   "source": [
    "# do not modify. We will check this result for grading\n",
    "b = ['hello','goodbye','hello']\n",
    "first_equals_last(b)"
   ]
  },
  {
   "cell_type": "code",
   "execution_count": 56,
   "metadata": {},
   "outputs": [
    {
     "data": {
      "text/plain": [
       "False"
      ]
     },
     "execution_count": 56,
     "metadata": {},
     "output_type": "execute_result"
    }
   ],
   "source": [
    "# do not modify. We will check this result for grading\n",
    "c  = [1,2,3,'1']\n",
    "first_equals_last(c)"
   ]
  },
  {
   "cell_type": "code",
   "execution_count": 57,
   "metadata": {},
   "outputs": [
    {
     "data": {
      "text/plain": [
       "True"
      ]
     },
     "execution_count": 57,
     "metadata": {},
     "output_type": "execute_result"
    }
   ],
   "source": [
    "# do not modify. We will check this result for grading\n",
    "d = [[1,2],[3,2],[1,2]]\n",
    "first_equals_last(d)"
   ]
  }
 ],
 "metadata": {
  "kernelspec": {
   "display_name": "Python 3 (ipykernel)",
   "language": "python",
   "name": "python3"
  },
  "language_info": {
   "codemirror_mode": {
    "name": "ipython",
    "version": 3
   },
   "file_extension": ".py",
   "mimetype": "text/x-python",
   "name": "python",
   "nbconvert_exporter": "python",
   "pygments_lexer": "ipython3",
   "version": "3.9.7"
  }
 },
 "nbformat": 4,
 "nbformat_minor": 4
}
